{
 "cells": [
  {
   "cell_type": "markdown",
   "metadata": {
    "pycharm": {
     "name": "#%% md\n"
    }
   },
   "source": [
    "## Dataset visualization.\n",
    "\n",
    "This notebook includes some tools to visualize the dataset and its properties."
   ]
  },
  {
   "cell_type": "code",
   "execution_count": null,
   "metadata": {
    "pycharm": {
     "name": "#%%\n"
    }
   },
   "outputs": [],
   "source": [
    "from RouteNet_Fermi import datanetAPI\n",
    "import numpy as np\n",
    "import random\n",
    "import matplotlib.pyplot as plt\n",
    "from astropy.visualization import hist"
   ]
  },
  {
   "cell_type": "markdown",
   "metadata": {
    "pycharm": {
     "name": "#%% md\n"
    }
   },
   "source": [
    "First of all we define a set of variables that will be used to filter the dataset:\n",
    "- ```data_folder_name```: the training folder (relative to the repository root)\n",
    "- ```max_avg_lambda_range```: range of the maximum average lambda | traffic intensity used\n",
    "- ```net_size_lst```: list of the network topology sizes to use"
   ]
  },
  {
   "cell_type": "code",
   "execution_count": null,
   "metadata": {
    "pycharm": {
     "name": "#%%\n"
    }
   },
   "outputs": [],
   "source": [
    "# Source path of the dataset\n",
    "data_folder_name = \"training\"\n",
    "src_path = f\"{data_folder_name}/results/dataset/\"\n",
    "\n",
    "# Range of the maximum average lambda | traffic intensity used \n",
    "# max_avg_lambda_range = [min_value,max_value] \n",
    "max_avg_lambda_range = [10,10000]\n",
    "\n",
    "# List of the network topology sizes to use\n",
    "net_size_lst = [4,5,6,7,8,9,10]\n"
   ]
  },
  {
   "cell_type": "markdown",
   "metadata": {
    "pycharm": {
     "name": "#%% md\n"
    }
   },
   "source": [
    "The following cell will read the samples from files"
   ]
  },
  {
   "cell_type": "code",
   "execution_count": null,
   "metadata": {
    "pycharm": {
     "name": "#%%\n"
    }
   },
   "outputs": [],
   "source": [
    "# Obtain all the samples from the dataset\n",
    "reader = datanetAPI.DatanetAPI(src_path,max_avg_lambda_range, net_size_lst)\n",
    "samples_lst = []\n",
    "for sample in reader:\n",
    "  samples_lst.append(sample)\n",
    "print (\"Number of selected samples: \",len(samples_lst))"
   ]
  },
  {
   "cell_type": "markdown",
   "metadata": {
    "pycharm": {
     "name": "#%% md\n"
    }
   },
   "source": [
    "#### CDF of links load for all samples"
   ]
  },
  {
   "cell_type": "code",
   "execution_count": null,
   "metadata": {
    "pycharm": {
     "name": "#%%\n"
    }
   },
   "outputs": [],
   "source": [
    "# Collect the parameter to plot\n",
    "loads_lst = []\n",
    "for s in samples_lst:\n",
    "    port_stats_obj = s.get_port_stats()\n",
    "    # For each node\n",
    "    for src_port_stats in port_stats_obj:\n",
    "        # For each adjaceny node\n",
    "        for j in src_port_stats:\n",
    "            # Append the feature to the list. For this scenario, link utilization\n",
    "            loads_lst.append(src_port_stats[j][\"utilization\"])\n",
    "               \n",
    "x = np.sort(loads_lst)\n",
    "y = 1. * np.arange(len(loads_lst)) / (len(loads_lst) - 1)\n",
    "plt.plot(x, y)\n",
    "plt.title(\"CDF of the link load\")\n",
    "plt.ylabel(\"load\")\n",
    "plt.show()\n",
    "plt.close()"
   ]
  },
  {
   "cell_type": "markdown",
   "metadata": {
    "pycharm": {
     "name": "#%% md\n"
    }
   },
   "source": [
    "#### Histogram showing the delay per path of a chosen sample"
   ]
  },
  {
   "cell_type": "code",
   "execution_count": null,
   "metadata": {
    "pycharm": {
     "name": "#%%\n"
    }
   },
   "outputs": [],
   "source": [
    "# Plot histogram of the delay of all path of a sample\n",
    "# We select a random sample (Or we can try to chose one!)\n",
    "s = random.choice(samples_lst)\n",
    "# s= samples_lst[0]\n",
    "delays_lst = []\n",
    "performance_matrix = s.get_performance_matrix()\n",
    "for i in range (s.get_network_size()):\n",
    "    for j in range (s.get_network_size()):\n",
    "        if (i == j):\n",
    "            continue\n",
    "        # Append to the list the average delay of the path i,j.\n",
    "        delays_lst.append(performance_matrix[i,j][\"AggInfo\"][\"AvgDelay\"])\n",
    "\n",
    "#Plot histogram using astropy to use correct value of bins\n",
    "hist(delays_lst, bins='blocks', histtype='stepfilled',alpha=0.2, density=True)\n",
    "plt.title(\"Histogram showing the delay per path\")\n",
    "plt.xlabel(\"Delay (s)\")\n",
    "plt.show()\n",
    "plt.close()\n",
    "\n",
    "        \n"
   ]
  },
  {
   "cell_type": "markdown",
   "metadata": {
    "pycharm": {
     "name": "#%% md\n"
    }
   },
   "source": [
    "### Heatmap showing the delay between the different nodes for a chosen sample\n"
   ]
  },
  {
   "cell_type": "code",
   "execution_count": null,
   "metadata": {
    "pycharm": {
     "name": "#%%\n"
    }
   },
   "outputs": [],
   "source": [
    "# Plot histogram of the delay of all path of a sample\n",
    "# We select a random sample (Or we can try to chose one!)\n",
    "# s = random.choice(samples_lst)\n",
    "s= samples_lst[0]\n",
    "delays_matrix = np.zeros((s.get_network_size(), s.get_network_size()))\n",
    "performance_matrix = s.get_performance_matrix()\n",
    "for i in range (s.get_network_size()):\n",
    "    for j in range (s.get_network_size()):\n",
    "        if (i == j):\n",
    "            continue\n",
    "        # Append to the list the average delay of the path i,j.\n",
    "        delays_matrix[i,j] = performance_matrix[i,j][\"AggInfo\"][\"AvgDelay\"]\n",
    "\n",
    "#Plot histogram using astropy to use correct value of bins\n",
    "fig, ax = plt.subplots(figsize=(8,8))\n",
    "im = ax.imshow(delays_matrix)\n",
    "labels = np.arange(s.get_network_size())\n",
    "ax.set_xticks(labels, labels=labels)\n",
    "ax.set_yticks(labels, labels=labels)\n",
    "\n",
    "cbar = ax.figure.colorbar(im, ax=ax)\n",
    "cbar.ax.set_ylabel(\"Delay (s)\", rotation=-90, va=\"bottom\")\n",
    "\n",
    "threshold_val = np.max(delays_matrix) * 0.66\n",
    "\n",
    "for i in range(s.get_network_size()):\n",
    "    for j in range(s.get_network_size()):\n",
    "        c = \"w\" if delays_matrix[i, j] < threshold_val else \"k\"\n",
    "        text = ax.text(j, i, delays_matrix[i, j],\n",
    "                       ha=\"center\", va=\"center\", color=c)\n",
    "\n",
    "plt.title(\"Heatmaps of delays between each node\")\n",
    "plt.xlabel(\"Node\")\n",
    "plt.ylabel(\"Node\")\n",
    "plt.show()\n",
    "plt.close()"
   ]
  },
  {
   "cell_type": "markdown",
   "metadata": {
    "pycharm": {
     "name": "#%% md\n"
    }
   },
   "source": [
    "#### Histogram showing the delay per path across all samples"
   ]
  },
  {
   "cell_type": "code",
   "execution_count": null,
   "metadata": {
    "pycharm": {
     "name": "#%%\n"
    }
   },
   "outputs": [],
   "source": [
    "delays_lst = []\n",
    "for s in samples_lst:\n",
    "    performance_matrix = s.get_performance_matrix()\n",
    "    for i in range (s.get_network_size()):\n",
    "        for j in range (s.get_network_size()):\n",
    "            if (i == j):\n",
    "                continue\n",
    "            # Append to the list the average delay of the path i,j. \n",
    "            delays_lst.append(performance_matrix[i,j][\"AggInfo\"][\"AvgDelay\"])\n",
    "\n",
    "hist(delays_lst, bins='blocks', histtype='stepfilled',alpha=0.2, density=True)\n",
    "plt.title(\"Histogram showing the delay per path across all samples\")\n",
    "plt.xlabel(\"Delay (s)\")\n",
    "plt.show()\n",
    "plt.close()"
   ]
  },
  {
   "cell_type": "code",
   "execution_count": null,
   "metadata": {
    "pycharm": {
     "name": "#%%\n"
    }
   },
   "outputs": [],
   "source": [
    "# Plot histogram of the delay for all the dataset and ToS 0\n",
    "delays_lst = []\n",
    "for s in samples_lst:\n",
    "    performance_matrix = s.get_performance_matrix()\n",
    "    traffic_matrix = s.get_traffic_matrix()\n",
    "    for i in range (s.get_network_size()):\n",
    "        for j in range (s.get_network_size()):\n",
    "            if (i == j):\n",
    "                continue\n",
    "            # Check if the path contain traffic of ToS 0:\n",
    "            # We only have one flow per path\n",
    "            if (traffic_matrix[i,j][\"Flows\"][0][\"ToS\"] != 0):\n",
    "                continue\n",
    "            # Append to the list the average delay of the path i,j. \n",
    "            delays_lst.append(performance_matrix[i,j][\"Flows\"][0][\"AvgDelay\"])\n",
    "            \n",
    "hist(delays_lst, bins='blocks', histtype='stepfilled',alpha=0.2, density=True)\n",
    "plt.title(\"Histogram of delays for all dataset and ToS 0\")\n",
    "plt.xlabel(\"Delay (s)\")\n",
    "plt.show()\n",
    "plt.close()"
   ]
  },
  {
   "cell_type": "markdown",
   "metadata": {
    "pycharm": {
     "name": "#%% md\n"
    }
   },
   "source": [
    "#### Histogram of the losses for all the dataset\n",
    "If there are no losses, the histogram will not be generated!"
   ]
  },
  {
   "cell_type": "code",
   "execution_count": null,
   "metadata": {
    "pycharm": {
     "name": "#%%\n"
    }
   },
   "outputs": [],
   "source": [
    "# Plot histogram of the losses for all the dataset\n",
    "losses_lst = []\n",
    "for s in samples_lst:\n",
    "    performance_matrix = s.get_performance_matrix()\n",
    "    traffic_matrix = s.get_traffic_matrix()\n",
    "    for i in range (s.get_network_size()):\n",
    "        for j in range (s.get_network_size()):\n",
    "            if (i == j):\n",
    "                continue\n",
    "            pkts_gen = traffic_matrix[i,j][\"AggInfo\"][\"PktsGen\"]\n",
    "            pkts_drop = performance_matrix[i,j][\"AggInfo\"][\"PktsDrop\"]\n",
    "            losses_lst.append(100*(pkts_drop/pkts_gen))\n",
    "n_losses = np.sum(losses_lst)\n",
    "print(\"Total number of losses:\", n_losses)\n",
    "if n_losses:\n",
    "    hist(losses_lst, bins='blocks', histtype='stepfilled',alpha=0.2, density=True)\n",
    "    plt.title(\"Histogram of losses for all dataset\")\n",
    "    plt.xlabel(\"Losses (%)\")\n",
    "    plt.show()\n",
    "    plt.close()\n"
   ]
  },
  {
   "cell_type": "markdown",
   "metadata": {
    "pycharm": {
     "name": "#%% md\n"
    }
   },
   "source": [
    "#### Histogram of the generated bandwidth per path for all the dataset"
   ]
  },
  {
   "cell_type": "code",
   "execution_count": null,
   "metadata": {
    "pycharm": {
     "name": "#%%\n"
    }
   },
   "outputs": [],
   "source": [
    "# Plot histogram of the generated bw per path for all the dataset\n",
    "bw_lst = []\n",
    "for s in samples_lst:\n",
    "    traffic_matrix = s.get_traffic_matrix()\n",
    "    for i in range (s.get_network_size()):\n",
    "        for j in range (s.get_network_size()):\n",
    "            if (i == j):\n",
    "                continue\n",
    "            bw_lst.append(traffic_matrix[i,j][\"AggInfo\"][\"AvgBw\"])\n",
    "\n",
    "hist(bw_lst, bins='blocks', histtype='stepfilled',alpha=0.2, density=True)\n",
    "plt.title(\"Histogram of generated Bw per path for all dataset\")\n",
    "plt.xlabel(\"Bw (bps)\")\n",
    "plt.show()\n",
    "plt.close()"
   ]
  }
 ],
 "metadata": {
  "interpreter": {
   "hash": "e4fabe4be1dcb5b95007215d13ed47b80f9ccf78939eea74ae4a681230c3cbef"
  },
  "kernelspec": {
   "display_name": "Python 3.9.0 ('BNNChallenge2022')",
   "language": "python",
   "name": "python3"
  },
  "language_info": {
   "codemirror_mode": {
    "name": "ipython",
    "version": 3
   },
   "file_extension": ".py",
   "mimetype": "text/x-python",
   "name": "python",
   "nbconvert_exporter": "python",
   "pygments_lexer": "ipython3",
   "version": "3.9.0"
  }
 },
 "nbformat": 4,
 "nbformat_minor": 4
}